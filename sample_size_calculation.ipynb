{
 "cells": [
  {
   "cell_type": "markdown",
   "id": "f8dffcc2-d2d8-45cf-a3d2-1e8f2c9e7bb6",
   "metadata": {},
   "source": [
    "# Определение размера выборок"
   ]
  },
  {
   "cell_type": "markdown",
   "id": "7018fd09-24bf-410c-b3d8-803526b18a5c",
   "metadata": {},
   "source": [
    "В scipy, вроде, нет встроенных возможностей для этого.  \n",
    "Переход к односторонним гипотезам уменьшает размер выборки.  "
   ]
  },
  {
   "cell_type": "code",
   "execution_count": null,
   "id": "9c38dd93-4f37-44d7-ac87-0dae46d36339",
   "metadata": {},
   "outputs": [],
   "source": []
  },
  {
   "cell_type": "markdown",
   "id": "f486e2f8-06b3-4c04-8502-5a2595e5480d",
   "metadata": {},
   "source": [
    "## Тест пропорций"
   ]
  },
  {
   "cell_type": "code",
   "execution_count": 31,
   "id": "40771b77-0126-4f14-8037-f1cf6fe3fb63",
   "metadata": {},
   "outputs": [
    {
     "name": "stdout",
     "output_type": "stream",
     "text": [
      "Необходимый размер выборки: 3835\n"
     ]
    }
   ],
   "source": [
    "from statsmodels.stats.power import zt_ind_solve_power\n",
    "from statsmodels.stats.proportion import proportion_effectsize\n",
    "\n",
    "# параметры, которые задаем сами\n",
    "baseline = 0.10  # базовый уровень конверсии (10%)\n",
    "effect = 0.02    # MDE (2%)\n",
    "alpha = 0.05     # уровень значимости (5%)\n",
    "power = 0.8      # мощность теста (80%)\n",
    "\n",
    "# расчёт эффекта\n",
    "effect_size = proportion_effectsize(baseline, baseline + effect)\n",
    "\n",
    "# расчёт размера выборки\n",
    "sample_size = zt_ind_solve_power(\n",
    "    effect_size=effect_size,\n",
    "    alpha=alpha,\n",
    "    power=power,\n",
    "    alternative='two-sided'  # двусторонний тест, для односторонних: 'larger' или 'smaller'\n",
    ")\n",
    "\n",
    "# лучше сделать округление вверх ceil?\n",
    "print(f\"Необходимый размер выборки: {sample_size:.0f}\")"
   ]
  },
  {
   "cell_type": "code",
   "execution_count": null,
   "id": "277cfd29-30af-4558-ad27-d8ea889814eb",
   "metadata": {},
   "outputs": [],
   "source": []
  },
  {
   "cell_type": "markdown",
   "id": "1c789e82-004e-486f-8eed-dacdf4cd929c",
   "metadata": {},
   "source": [
    "## Тест Уэлча"
   ]
  },
  {
   "cell_type": "code",
   "execution_count": 28,
   "id": "4b368385-61f5-4188-8141-1d43df794faa",
   "metadata": {},
   "outputs": [
    {
     "name": "stdout",
     "output_type": "stream",
     "text": [
      "Необходимый размер выборки: 64\n"
     ]
    }
   ],
   "source": [
    "from statsmodels.stats.power import tt_ind_solve_power\n",
    "\n",
    "# параметры, которые задаем сами\n",
    "effect_size = 0.5  # MDE (разница между средними / стандартное отклонение)\n",
    "alpha = 0.05       # уровень значимости (5%)\n",
    "power = 0.8        # мощность теста (80%)\n",
    "ratio = 1          # соотношение размеров выборок (1:1)\n",
    "\n",
    "# расчёт размера выборки\n",
    "sample_size = tt_ind_solve_power(\n",
    "    effect_size=effect_size,\n",
    "    alpha=alpha,\n",
    "    power=power,\n",
    "    ratio=ratio,\n",
    "    alternative='two-sided'  # двусторонний тест, для односторонних: 'larger' или 'smaller'\n",
    ")\n",
    "\n",
    "# лучше сделать округление вверх ceil?\n",
    "print(f\"Необходимый размер выборки: {sample_size:.0f}\")"
   ]
  },
  {
   "cell_type": "code",
   "execution_count": null,
   "id": "7cb98c3c-3374-474f-a3ae-cdbfe2ff48f8",
   "metadata": {},
   "outputs": [],
   "source": []
  },
  {
   "cell_type": "markdown",
   "id": "ccf31553-4462-498c-a395-443583021e76",
   "metadata": {},
   "source": [
    "## Хи-квадрат"
   ]
  },
  {
   "cell_type": "code",
   "execution_count": 19,
   "id": "e01c8358-bf31-4d81-984f-e904ee50165f",
   "metadata": {},
   "outputs": [
    {
     "name": "stdout",
     "output_type": "stream",
     "text": [
      "Необходимый размер выборки: 87\n"
     ]
    }
   ],
   "source": [
    "from statsmodels.stats.power import GofChisquarePower\n",
    "\n",
    "# Параметры\n",
    "effect_size = 0.3  # Cohen's w (размер эффекта)\n",
    "alpha = 0.05       # уровень значимости (5%)\n",
    "power = 0.8        # мощность теста (80%)\n",
    "n_bins = 2         # количество категорий (для таблицы 2x2). number of bins or cells in the distribution\n",
    "\n",
    "# расчёт размера выборки\n",
    "sample_size = GofChisquarePower().solve_power(\n",
    "    effect_size=effect_size,\n",
    "    alpha=alpha,\n",
    "    power=power,\n",
    "    n_bins=n_bins,  # количество категорий (для таблицы 2x2). number of bins or cells in the distribution\n",
    ")\n",
    "\n",
    "print(f\"Необходимый размер выборки: {sample_size:.0f}\")"
   ]
  },
  {
   "cell_type": "code",
   "execution_count": null,
   "id": "6ba29939-798a-44c0-894d-3683260342d5",
   "metadata": {},
   "outputs": [],
   "source": []
  }
 ],
 "metadata": {
  "kernelspec": {
   "display_name": "Python 3 (ipykernel)",
   "language": "python",
   "name": "python3"
  },
  "language_info": {
   "codemirror_mode": {
    "name": "ipython",
    "version": 3
   },
   "file_extension": ".py",
   "mimetype": "text/x-python",
   "name": "python",
   "nbconvert_exporter": "python",
   "pygments_lexer": "ipython3",
   "version": "3.9.13"
  }
 },
 "nbformat": 4,
 "nbformat_minor": 5
}
