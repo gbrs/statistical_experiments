{
 "cells": [
  {
   "cell_type": "markdown",
   "id": "1a2a4768-0cb9-4679-8f2a-5c4a7c166501",
   "metadata": {},
   "source": [
    "# Delta-method"
   ]
  },
  {
   "cell_type": "code",
   "execution_count": 21,
   "id": "02a5a816-9987-4a72-9506-7d08c51f1aa5",
   "metadata": {},
   "outputs": [],
   "source": [
    "## комменты добавить"
   ]
  },
  {
   "cell_type": "code",
   "execution_count": 14,
   "id": "346a936a-62ae-4fe0-93a5-f795bc8325ce",
   "metadata": {},
   "outputs": [],
   "source": [
    "import numpy as np\n",
    "import pandas as pd\n",
    "import scipy.stats as sps\n",
    "from statsmodels.stats.power import tt_ind_solve_power"
   ]
  },
  {
   "cell_type": "markdown",
   "id": "f870752c-d05b-4d5d-8492-7137e77d251d",
   "metadata": {},
   "source": [
    "код и текст из https://t.me/nodatanogrowth/621"
   ]
  },
  {
   "cell_type": "markdown",
   "id": "a6fc3d4f-461d-4846-9541-c4fe9bd1b49b",
   "metadata": {},
   "source": [
    "Как работать с Ratio-метриками – Delta-method.\n",
    "\n",
    "В посте с видами метрик в АБ-тестах я рассказал о трех видах метрик: долях, непрерывных и метриках отношения (ratio-метриках). Больше всего интереса вызывает именно последний вид, поскольку к ratio-метрикам нельзя просто взять и применить привычные стат.критерии. \n",
    "\n",
    "Проблема заключается в том, что в ratio-метриках числитель (num) и знаменатель (denom) зависимы. А тот же t-test, как и многие другие тесты, предполагают независимость данных. Как итог – мы неправильно оцениваем дисперсию метрики.\n",
    "\n",
    "Один из вариантов решения проблемы – применение delta-method’а. Суть метода проста. В нем мы корректируем нашу дисперсию на корреляцию. Для это нам понадобится следующая функция оценки дисперсии:"
   ]
  },
  {
   "cell_type": "code",
   "execution_count": 2,
   "id": "23573a4f-c283-4170-b85c-f56ef5d0f156",
   "metadata": {},
   "outputs": [],
   "source": [
    "def est_ratio_var(num, denom):  ## числитель и знаменатель\n",
    "\n",
    "    mean_num, mean_denom = np.mean(num), np.mean(denom)\n",
    "    var_num, var_denom = np.var(num), np.var(denom)\n",
    "    \n",
    "    cov = np.cov(num, denom)[0, 1]\n",
    "    \n",
    "    ratio_var = (\n",
    "            (var_num / mean_denom ** 2)\n",
    "            - (2 * (mean_num / mean_denom ** 3) * cov)\n",
    "            + ((mean_num ** 2 / mean_denom ** 4) * var_denom)\n",
    "    )\n",
    "    \n",
    "    return ratio_var"
   ]
  },
  {
   "cell_type": "markdown",
   "id": "9226d34f-f08d-4320-9e23-4c56cac4825c",
   "metadata": {},
   "source": [
    "Рассмотрим работу метода на примере метрики CTR. Т. е. у нас будут колонки 'clicks' и 'views' на каждого user_id. Тогда можно выделить 2 ключевых момента работы с ней:"
   ]
  },
  {
   "cell_type": "markdown",
   "id": "cd5c8da6-e366-4beb-9f04-8baa3c315560",
   "metadata": {},
   "source": [
    "1 Расчет размера выборки  \n",
    "В коде ниже, rel_mde – относительный MDE, cohen_d – стандартизированный MDE. Пользователей делим 90 на 10."
   ]
  },
  {
   "cell_type": "code",
   "execution_count": 17,
   "id": "d9601129-175e-4bcd-a908-5ef3c00aa91b",
   "metadata": {},
   "outputs": [
    {
     "data": {
      "text/html": [
       "<div>\n",
       "<style scoped>\n",
       "    .dataframe tbody tr th:only-of-type {\n",
       "        vertical-align: middle;\n",
       "    }\n",
       "\n",
       "    .dataframe tbody tr th {\n",
       "        vertical-align: top;\n",
       "    }\n",
       "\n",
       "    .dataframe thead th {\n",
       "        text-align: right;\n",
       "    }\n",
       "</style>\n",
       "<table border=\"1\" class=\"dataframe\">\n",
       "  <thead>\n",
       "    <tr style=\"text-align: right;\">\n",
       "      <th></th>\n",
       "      <th>id</th>\n",
       "      <th>clicks</th>\n",
       "      <th>views</th>\n",
       "    </tr>\n",
       "  </thead>\n",
       "  <tbody>\n",
       "    <tr>\n",
       "      <th>0</th>\n",
       "      <td>1</td>\n",
       "      <td>14</td>\n",
       "      <td>1</td>\n",
       "    </tr>\n",
       "    <tr>\n",
       "      <th>1</th>\n",
       "      <td>2</td>\n",
       "      <td>8</td>\n",
       "      <td>3</td>\n",
       "    </tr>\n",
       "    <tr>\n",
       "      <th>2</th>\n",
       "      <td>3</td>\n",
       "      <td>8</td>\n",
       "      <td>2</td>\n",
       "    </tr>\n",
       "    <tr>\n",
       "      <th>3</th>\n",
       "      <td>4</td>\n",
       "      <td>15</td>\n",
       "      <td>2</td>\n",
       "    </tr>\n",
       "    <tr>\n",
       "      <th>4</th>\n",
       "      <td>5</td>\n",
       "      <td>6</td>\n",
       "      <td>5</td>\n",
       "    </tr>\n",
       "    <tr>\n",
       "      <th>5</th>\n",
       "      <td>6</td>\n",
       "      <td>14</td>\n",
       "      <td>4</td>\n",
       "    </tr>\n",
       "    <tr>\n",
       "      <th>6</th>\n",
       "      <td>7</td>\n",
       "      <td>10</td>\n",
       "      <td>2</td>\n",
       "    </tr>\n",
       "    <tr>\n",
       "      <th>7</th>\n",
       "      <td>8</td>\n",
       "      <td>14</td>\n",
       "      <td>3</td>\n",
       "    </tr>\n",
       "    <tr>\n",
       "      <th>8</th>\n",
       "      <td>9</td>\n",
       "      <td>7</td>\n",
       "      <td>5</td>\n",
       "    </tr>\n",
       "    <tr>\n",
       "      <th>9</th>\n",
       "      <td>10</td>\n",
       "      <td>15</td>\n",
       "      <td>3</td>\n",
       "    </tr>\n",
       "    <tr>\n",
       "      <th>10</th>\n",
       "      <td>11</td>\n",
       "      <td>15</td>\n",
       "      <td>4</td>\n",
       "    </tr>\n",
       "    <tr>\n",
       "      <th>11</th>\n",
       "      <td>12</td>\n",
       "      <td>8</td>\n",
       "      <td>5</td>\n",
       "    </tr>\n",
       "    <tr>\n",
       "      <th>12</th>\n",
       "      <td>13</td>\n",
       "      <td>14</td>\n",
       "      <td>2</td>\n",
       "    </tr>\n",
       "    <tr>\n",
       "      <th>13</th>\n",
       "      <td>14</td>\n",
       "      <td>8</td>\n",
       "      <td>4</td>\n",
       "    </tr>\n",
       "    <tr>\n",
       "      <th>14</th>\n",
       "      <td>15</td>\n",
       "      <td>10</td>\n",
       "      <td>4</td>\n",
       "    </tr>\n",
       "    <tr>\n",
       "      <th>15</th>\n",
       "      <td>16</td>\n",
       "      <td>11</td>\n",
       "      <td>1</td>\n",
       "    </tr>\n",
       "    <tr>\n",
       "      <th>16</th>\n",
       "      <td>17</td>\n",
       "      <td>10</td>\n",
       "      <td>2</td>\n",
       "    </tr>\n",
       "    <tr>\n",
       "      <th>17</th>\n",
       "      <td>18</td>\n",
       "      <td>10</td>\n",
       "      <td>1</td>\n",
       "    </tr>\n",
       "    <tr>\n",
       "      <th>18</th>\n",
       "      <td>19</td>\n",
       "      <td>12</td>\n",
       "      <td>1</td>\n",
       "    </tr>\n",
       "    <tr>\n",
       "      <th>19</th>\n",
       "      <td>20</td>\n",
       "      <td>11</td>\n",
       "      <td>2</td>\n",
       "    </tr>\n",
       "  </tbody>\n",
       "</table>\n",
       "</div>"
      ],
      "text/plain": [
       "    id  clicks  views\n",
       "0    1      14      1\n",
       "1    2       8      3\n",
       "2    3       8      2\n",
       "3    4      15      2\n",
       "4    5       6      5\n",
       "5    6      14      4\n",
       "6    7      10      2\n",
       "7    8      14      3\n",
       "8    9       7      5\n",
       "9   10      15      3\n",
       "10  11      15      4\n",
       "11  12       8      5\n",
       "12  13      14      2\n",
       "13  14       8      4\n",
       "14  15      10      4\n",
       "15  16      11      1\n",
       "16  17      10      2\n",
       "17  18      10      1\n",
       "18  19      12      1\n",
       "19  20      11      2"
      ]
     },
     "execution_count": 17,
     "metadata": {},
     "output_type": "execute_result"
    }
   ],
   "source": [
    "## сгенерировал \"датасет\"\n",
    "df = pd.DataFrame(\n",
    "    {\n",
    "        'id': range(1, 21), \n",
    "        'clicks': np.random.randint(6, 16, 20), \n",
    "        'views': np.random.randint(1, 6, 20)\n",
    "    }\n",
    ")\n",
    "df"
   ]
  },
  {
   "cell_type": "code",
   "execution_count": 18,
   "id": "e9fd2ed7-756d-438b-b5eb-0787f2cc815a",
   "metadata": {},
   "outputs": [
    {
     "name": "stdout",
     "output_type": "stream",
     "text": [
      "Размер выборки delta-method: n1 = 353, n2 = 3180\n"
     ]
    }
   ],
   "source": [
    "rel_mde = 0.1\n",
    "\n",
    "var = est_ratio_var(df['clicks'], df['views'])\n",
    "control_std = var**0.5\n",
    "\n",
    "control_mean = df['clicks'].sum() / df['views'].sum()\n",
    "test_mean = control_mean * (1 + rel_mde)\n",
    "\n",
    "cohen_d = (test_mean - control_mean) / control_std\n",
    "\n",
    "n1 = tt_ind_solve_power(\n",
    "    effect_size=cohen_d,\n",
    "    alpha=0.05,\n",
    "    power=0.8,\n",
    "    ratio=9,  # n2/n1\n",
    "    alternative=\"two-sided\"\n",
    ")\n",
    "\n",
    "print(f\"Размер выборки delta-method: \"\n",
    "      f\"n1 = {round(n1)}, \"\n",
    "      f\"n2 = {round(9 * n1)}\"\n",
    ")"
   ]
  },
  {
   "cell_type": "markdown",
   "id": "ebf9d49a-9298-4fcf-9163-436d910231e6",
   "metadata": {},
   "source": [
    "2 Оценка статистической значимости изменений:"
   ]
  },
  {
   "cell_type": "code",
   "execution_count": 15,
   "id": "09e9041e-ef76-4bd7-a21a-f7bc82e01443",
   "metadata": {},
   "outputs": [],
   "source": [
    "def delta_method(group_A, group_B):\n",
    "\n",
    "    ratio_A = group_A['clicks'].sum() / group_A['views'].sum()\n",
    "    ratio_B = group_B['clicks'].sum() / group_B['views'].sum()\n",
    "\n",
    "    var_A = est_ratio_var(group_A['clicks'], group_A['views'])\n",
    "    var_B = est_ratio_var(group_B['clicks'], group_B['views'])\n",
    "\n",
    "    uplift = ratio_B - ratio_A\n",
    "    se = np.sqrt(var_B / len(group_B) + var_A / len(group_A))\n",
    "\n",
    "    t = uplift / se\n",
    "    p_val = (1 - sps.norm.cdf(abs(t))) * 2\n",
    "    \n",
    "    return p_val"
   ]
  },
  {
   "cell_type": "markdown",
   "id": "0233b13d-c533-4527-a898-0085fe87ee88",
   "metadata": {},
   "source": [
    "Я нахожу Delta-method самым простым в интерпретации для бизнеса. Но существуют и другие методы работы с ratio-метриками – линеризация, бутстреп, бакетизация. Все они имеют свои плюсы и минусы, а также нюансы применения."
   ]
  },
  {
   "cell_type": "code",
   "execution_count": 20,
   "id": "cda1502f-50fb-4ca7-b11e-c13b4fcd97ba",
   "metadata": {},
   "outputs": [
    {
     "data": {
      "text/plain": [
       "0.08685927790261405"
      ]
     },
     "execution_count": 20,
     "metadata": {},
     "output_type": "execute_result"
    }
   ],
   "source": [
    "delta_method(df[0:18], df[18:20])"
   ]
  },
  {
   "cell_type": "code",
   "execution_count": null,
   "id": "cf317d4a-a81d-4684-b907-8974247a3123",
   "metadata": {},
   "outputs": [],
   "source": []
  }
 ],
 "metadata": {
  "kernelspec": {
   "display_name": "Python 3 (ipykernel)",
   "language": "python",
   "name": "python3"
  },
  "language_info": {
   "codemirror_mode": {
    "name": "ipython",
    "version": 3
   },
   "file_extension": ".py",
   "mimetype": "text/x-python",
   "name": "python",
   "nbconvert_exporter": "python",
   "pygments_lexer": "ipython3",
   "version": "3.7.16"
  }
 },
 "nbformat": 4,
 "nbformat_minor": 5
}
