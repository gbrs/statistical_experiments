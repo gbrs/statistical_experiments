{
 "cells": [
  {
   "cell_type": "markdown",
   "id": "c63339f0",
   "metadata": {},
   "source": [
    "# Лекция 1. Введение в статистику."
   ]
  },
  {
   "cell_type": "code",
   "execution_count": 3,
   "id": "d5f9414c",
   "metadata": {},
   "outputs": [],
   "source": [
    "from scipy.stats import (\n",
    "    binom\n",
    ")\n",
    "import numpy as numpy\n",
    "from seaborn import distplot\n",
    "from matplotlib import pyplot\n",
    "import seaborn\n",
    "import random\n",
    "\n",
    "import sys\n",
    "sys.path.append('.')"
   ]
  },
  {
   "cell_type": "code",
   "execution_count": 4,
   "id": "c51ca343",
   "metadata": {},
   "outputs": [],
   "source": [
    "def inverse_plot_colorscheme():\n",
    "    import cycler\n",
    "    def invert(color_to_convert): \n",
    "        table = str.maketrans('0123456789abcdef', 'fedcba9876543210')\n",
    "        return '#' + color_to_convert[1:].lower().translate(table).upper()\n",
    "    update_dict = {}\n",
    "    for key, value in pyplot.rcParams.items():\n",
    "        if value == 'black':\n",
    "            update_dict[key] = 'white'\n",
    "        elif value == 'white':\n",
    "            update_dict[key] = 'black'\n",
    "    \n",
    "    old_cycle = pyplot.rcParams['axes.prop_cycle']\n",
    "    new_cycle = []\n",
    "    for value in old_cycle:\n",
    "        new_cycle.append({\n",
    "            'color': invert(value['color'])\n",
    "        })\n",
    "    pyplot.rcParams.update(update_dict)\n",
    "    pyplot.rcParams['axes.prop_cycle'] = cycler.Cycler(new_cycle)\n",
    "    lec = pyplot.rcParams['legend.edgecolor']\n",
    "    lec = str(1 - float(lec))\n",
    "    pyplot.rcParams['legend.edgecolor'] = lec"
   ]
  },
  {
   "cell_type": "code",
   "execution_count": 5,
   "id": "ea72839f",
   "metadata": {},
   "outputs": [],
   "source": [
    "inverse_plot_colorscheme()"
   ]
  },
  {
   "cell_type": "markdown",
   "id": "b8ea1909",
   "metadata": {},
   "source": [
    "______\n",
    "\n",
    "В этой лекции мы начинаем знакомство с математической статистикой. На примере бизнес-задачи мы разберём, зачем нужна статистика, как применить её к конкретной задаче и какие ошибки можно совершить, если не пользоваться математическим аппаратом."
   ]
  },
  {
   "cell_type": "markdown",
   "id": "9c485fca",
   "metadata": {},
   "source": [
    "## Часть 1. Зачем нужна прикладная статистика\n",
    "\n",
    "Предположим, вы придумали идею для стартапа. Вы договорились с магазинами одежды об осуществлении доставки и наняли курьеров, которые собирают из магазинов заказы и доставляют клиентам. Предположим, доставка в вашем сервисе стоит 1000 рублей, а курьеру за работу требуется заплатить 500 рублей. Казалось бы, прибыль очевидна, но внезапно вы понимаете, что от одежды часто отказываются, если она не подходит. Это понимают и ваши инвесторы, которых вы просите помочь с рекламой и инфраструктурой. Они согласны помогать вам, если шанс отказа будет меньше 50%.\n",
    "\n",
    "**Как вам убедить инвесторов?**\n",
    "\n",
    "Вы решаетесь на эксперимент. Самостоятельно находите $30$ клиентов и доставляете им заказы через курьеров. Оплачивают покупку $19$ из них, остальные отказываются. $19$ &mdash; это больше половины покупателей, но достаточно ли этого, чтобы доказать успешность вашего бизнеса?\n",
    "\n",
    "### Модель и наблюдения\n",
    "\n",
    "Решая такую задачу, мы предполагаем, что есть аудитория, которая воспользуется нашим сервисом. Она называется *генеральной совокупностью*. Если мы запустим сервис на всех пользователей, то в нём будет доля успешных доставок, обозначим её $\\mu$. Это некоторый параметр, который мы не знаем. Всё, что мы можем делать &mdash; это проводить эксперименты и *наблюдать*. Мы не можем протестировать продукт на всех, но можем собрать *выборку* из генеральной совокупности и пронаблюдать долю успехов. По проведённому эксперименту видим, что наблюдаемая вероятность оплаты $\\frac{19}{30} = 63\\%$.\n",
    "\n",
    "Но до сих пор неясно, является ли это доказательством, что истинное $\\mu > 50\\%$.\n",
    "\n",
    "Посмотрим, почему это может не быть доказательством. Положим вероятность $\\mu = 0.5$ и математически смоделируем, какие могли быть статусы наших 30 заказов.\n",
    "\n",
    "**Алгоритм моделирования**\n",
    "\n",
    "- Так как вероятность успеха 0.5, можно подбросить монетку для моделирования того, был ли успех\n",
    "- Чтобы подбросить монетку, воспользуемся функцией `random.randint`, которая возвращает случайное целое число из диапазона, в нашем случае от 0 до 1, где 1 означает успешную доставку\n",
    "- Подкинем монетку 30 раз, чтобы получить результаты 30 доставок"
   ]
  },
  {
   "cell_type": "code",
   "execution_count": 6,
   "id": "22de314c",
   "metadata": {},
   "outputs": [],
   "source": [
    "# фиксируем последовательность рандома для воспроизводимости\n",
    "random.seed(20000)"
   ]
  },
  {
   "cell_type": "code",
   "execution_count": 7,
   "id": "16f34269",
   "metadata": {},
   "outputs": [],
   "source": [
    "statuses = []\n",
    "for _ in range(30):  # моделируем 30 доставок\n",
    "    status = random.randint(0, 1)  # генерируем случайное число, 0 или 1\n",
    "    statuses.append(status)\n",
    "exp_chance = sum(statuses) / 30  # доля успехов"
   ]
  },
  {
   "cell_type": "code",
   "execution_count": 8,
   "id": "1245534d",
   "metadata": {},
   "outputs": [
    {
     "name": "stdout",
     "output_type": "stream",
     "text": [
      "Доля успехов: 67%\n"
     ]
    }
   ],
   "source": [
    "print('Доля успехов: {:.0%}'.format(exp_chance))"
   ]
  },
  {
   "cell_type": "markdown",
   "id": "93b90abc",
   "metadata": {},
   "source": [
    "Видим, что в эксперименте доля успешных заказов была даже выше $63\\%$, но модельная вероятность была $50\\%$.\n",
    "\n",
    "Поэтому, к сожалению, **точно сказать, какой является $\\mu$ в генеральной совокупности, и больше ли она 50%, нельзя**, сколько бы мы ни наблюдали за доставками. Но с помощью прикладной статистики мы введём аппарат, который позволяет принять правильное продуктовое решение, в том числе и для этой задачи. "
   ]
  },
  {
   "cell_type": "markdown",
   "id": "622e27cc",
   "metadata": {},
   "source": [
    "## Часть 2. Статистические гипотезы"
   ]
  },
  {
   "cell_type": "markdown",
   "id": "188d64ff",
   "metadata": {},
   "source": [
    "Мы увидели, что можно получить довольно много успехов даже в случае вероятности $\\mu = 0.5$. Но на самом деле для этого пришлось подбирать seed. Если перезапустить только ячейку с экспериментом, доля успехов получится уже меньше половины! Так может быть большая доля успехов случается очень редко, и мы готовы принять большое в качестве доказательства?\n",
    "\n",
    "Чтобы это понять, надо ответить на вопрос:\n",
    "\n",
    "❓ **Насколько часто может быть такое, что при $\\mu = 0.5$ получается большая доля успехов**?\n",
    "\n",
    "Для этого обратимся к теории вероятностей. Успешность каждого заказа &mdash; это случайная величина $\\xi$ из распределения Бернулли. Параметр этого распределения, вероятность успеха, мы не знаем."
   ]
  },
  {
   "cell_type": "markdown",
   "id": "b505d998",
   "metadata": {},
   "source": [
    "$$ \\xi = \\xi_1, \\xi_2, \\dots, \\xi_{30} \\sim Bern(\\mu) - \\text{выборка} $$\n",
    "\n",
    "$$ \\mu - \\text{неизвестный параметр} $$\n",
    "\n",
    "### Гипотеза\n",
    "\n",
    "При этом у нас есть продуктовая гипотеза о том, как устроено распределение в генеральной совокупности. Нас интересует доказательство того, что $\\mu > 0.5$. В механизме проверки гипотез в статистике рассматривают две гипотезы. Нулевая гипотеза говорит о том, что мы хотим опровергнуть. Альтернативная гипотеза говорит о том, что мы хотим доказать.\n",
    "\n",
    "$$ \\mathsf{H}_0: \\mu = 0.5 $$\n",
    "$$ \\mathsf{H}_1: \\mu > 0.5 $$\n"
   ]
  },
  {
   "cell_type": "markdown",
   "id": "a798c575",
   "metadata": {},
   "source": [
    "Заметим, что если в эксперименте $30$ доставок, то можно смотреть не на долю успехов, а просто на количество. Переформулируем вопрос:\n",
    "\n",
    "❓ **Насколько часто может быть такое, что при справедливости $\\mathsf{H}_0$ получается большое количество успехов**?\n",
    "\n",
    "Количество успехов &mdash; это сумма независимых бернуллиевских величин, значит имеет биномиальное распределение. Посмотрим, как оно выглядит."
   ]
  },
  {
   "attachments": {
    "success_distr.png": {
     "image/png": "[encoded data removed]"
    }
   },
   "cell_type": "markdown",
   "id": "b95b64e5",
   "metadata": {},
   "source": [
    "![success_distr.png](attachment:success_distr.png)"
   ]
  },
  {
   "cell_type": "markdown",
   "id": "1ffb0c22",
   "metadata": {},
   "source": [
    "Видим, например, что $20$ и более успехов случаются достаточно редко. Для принятия решения можно пользоваться правилом `инвестируем, если успехов хотя бы 20`. Если $\\mathsf{H}_0$ и верна, то ошибаться, используя это правило, мы будем редко."
   ]
  },
  {
   "cell_type": "markdown",
   "id": "1e47d00f",
   "metadata": {},
   "source": [
    "### Критерий\n",
    "\n",
    "Только что мы придумали алгоритм, который по выборке $\\xi$ либо признаёт, что мы нашли доказательство в пользу $\\mathsf{H}_1$, либо говорит, что его не нашли. Соответственно будет либо **отвергать $\\mathsf{H}_0$**, либо **не отвергать**.\n",
    "\n",
    "Такой алгоритм называется **критерием**. Представим его как функцию $S$, которая принимает реализацию выборки и возвращает $1$, если нужно отвергнуть $\\mathsf{H}_0$, и $0$ иначе.\n",
    "\n",
    "$$\n",
    "S(\\xi) = \\begin{cases}\n",
    "    1, \\text{ если отвергаем } \\mathsf{H}_0 \\\\\n",
    "    0, \\text{ иначе}\n",
    "\\end{cases}\n",
    "$$\n",
    "\n",
    "Запишем правило, которое сформулировали выше для нашей задачи:\n",
    "\n",
    "$$\n",
    "S(\\xi) = \\begin{cases}\n",
    "    1, \\text{ если } \\sum \\xi_i \\geqslant 20 \\\\\n",
    "    0, \\text{ иначе}\n",
    "\\end{cases}\n",
    "$$\n",
    "\n",
    "Обычно сокращают запись и пишут просто правило, по которому отвергаем $\\mathsf{H}_0$\n",
    "\n",
    "$$ S = \\{\\sum \\xi_i \\geqslant 20\\} $$\n",
    "\n",
    "Обозначим $Q = \\sum \\xi_i$, $С = 20$, тогда критерий принимает вид\n",
    "\n",
    "$$ S = \\{Q(\\xi) \\geqslant C\\} $$\n",
    "\n",
    "Так устроено большинство классических критериев в прикладной статистике, поэтому величинам в нём даны специальные названия. $Q$ называется **статистикой критерия**, $C$ &mdash; **критическим значением**.\n",
    "\n",
    "$Q$ может быть любой функцией от выборки, которую вы считаете логичной для проверки гипотезы. В нашем случае это количество успехов, или сумма всех $\\xi_i$. Но вы можете выбрать и другие: максимальное значение, сумму первых 5 значений или даже просто первый элемент."
   ]
  },
  {
   "cell_type": "markdown",
   "id": "565e4d5b",
   "metadata": {},
   "source": [
    "### Поиск критического значения\n",
    "\n",
    "Снова перепишем наш основной вопрос, только теперь с использованием нашего критерия $S$:\n",
    "\n",
    "❓ **Насколько часто может быть такое, что при справедливости $\\mathsf{H}_0$ критерий $S$ отвергает гипотезу**?\n",
    "\n",
    "Ответ на этот вопрос зависит от критического значения. Сейчас мы взяли его равным $20$, увидев на картинке, что большие отклонения происходят при $\\mathsf{H}_0$ редко. Но что значит редко и насколько редко, не сказали. Теперь наша цель понять, как выбрать критическое значение $C$, исходя из частоты ошибок нашего критерия.\n",
    "\n",
    "Выбирая $C$, мы можем либо часто отвергать нулевую гипотезу, когда $C$ мало, либо можем делать это реже, когда $C$ большое. Чтобы выбрать правильное значение, нужно определиться, когда наш критерий ошибается.\n",
    "\n",
    "**C = 16**\n",
    "\n",
    "Если отвергать гипотезу при получении хотя бы 16 успешных доставок из 30, то это вряд ли устроит инвесторов. Да, успехов больше половины. Но если в генеральной совокупности вероятность 0.5, то почти в половине случаев мы будем отвергать гипотезу. Критерий ошибочно возвращает $1$, то есть это ошибка **False Positive**.\n",
    "\n",
    "**C = 29**\n",
    "\n",
    "В таком случае будем отвергать гипотезу только при 29 или 30 успехах. Эти значения, конечно, говорят о том, что отклонение от 50% успехов сильное. Но если в генеральной совокупности вероятность, к примеру, 60%, то такие значения будут получаться редко. А ведь такие вероятности тоже устроили бы инвесторов, и мы бы смогли открыть стартап! А с таким критерием мы вряд ли добьёмся этого. Не отвергнуть гипотезу $\\mathsf{H}_0$, когда она неверна - это тоже ошибка. Она называется **False Negative**, так как критерий вернул 0 ошибочно.\n",
    "\n",
    "$$ \\text{False Positive (FP) } - \\mathsf{H}_0\\ отвергается,\\ когда\\ она\\ верна $$\n",
    "$$ \\text{False Negative (FN) } - \\mathsf{H}_0\\ не\\ отвергается,\\ когда\\ она\\ не верна $$\n",
    "\n",
    "В нашей задаче инвесторам важнее False Positive. Им очень не хочется попасть в ситуацию, когда им показали доказательство успешности бизнеса, а оказалось, что от большинства заказов отказываются, и компания не получает прибыль. Это приведёт к убыткам. False Negative же приведет к тому, что вы упустите успешный бизнес, но инвесторы денег не потеряют.\n",
    "\n",
    "Поэтому выберем порог, чтобы была удовлетворительной вероятность False Positive, или же False Positive Rate (FPR). Для этого надо понять, как часто мы будем отвергать гипотезу, когда верна $\\mathsf{H}_0$.\n",
    "\n",
    "Теперь снова переформулируем основной вопрос, полностью с использованием новых терминов, и наконец ответим на него.\n",
    "\n",
    "❓ **Какой FPR у критерия S для проверки гипотезы $\\mathsf{H}_0$ vs $\\mathsf{H}_1$**?\n",
    "\n",
    "Вспомним моделирование из части 1. Когда $\\mathsf{H}_0$ верна, чтобы посчитать количество успехов мы проводили $30$ раз подбрасывание монетки с вероятностью орла $0.5$. Количество орлов (то есть успехов) в таком эксперименте имеет распределение, которое называется биномиальным, то есть при $\\mu = 0.5$ наша статистика имеет биномиальное распределение $Q \\sim Binom(0.5, 30)$.\n",
    "\n",
    "Вычислим FPR для $C = 20$\n",
    "\n",
    "$$ FPR = P(S(\\xi) = 1\\ |\\  \\mathsf{H}_0) = P(Q \\geqslant 20\\ |\\ \\mathsf{H}_0) = P(Q \\geqslant 20\\ |\\ \\mu = 0.5) = $$\n",
    "\n",
    "$$ = P(Q \\geqslant 20\\ |\\ Q \\sim Binom(0.5, 30)) $$\n",
    "\n",
    "Это уже вероятность события при конкретном распределении случайной величины. Его можно посмотреть по таблице или, что удобнее, вычислить в Python. Работе с распределениями в Python будет посвящена часть 3.\n",
    "\n",
    "$$ FPR \\approx 0.049 $$\n",
    "\n",
    "Если False Positive Rate не превышает некоторой константы $\\alpha$, то критерий называется критерием **уровня значимости** $\\alpha$. В прикладной статистике мы никогда не ставим задачу в формулировке \"создать статистический критерий\", а ставим только в формулировке \"создать статистический критерий уровня значимости \"$\\alpha$\". Статистический критерий с $\\alpha$ = 100% создать тривиально &mdash; достаточно всегда отвергать $H_0$ &mdash; поэтому такая постановка не имеет смысла.\n",
    "\n",
    "Уровень значимости обычно выбирается на основе бизнес-соображений. Он обозначает то, какой риск неправильного принятия положительного решения мы считаем приемлемым. Обычно берут $\\alpha = 0.05$, но если требуется более точное принятие решения, могут выбрать $0.01$, $0.005$, $0.001$. Если же решение не так критично, могут выбрать $0.1$.\n",
    "\n",
    "Предположим, выбрали значение $\\alpha = 0.05$, тогда наш критерий подходит для принятия решений. Воспользуемся критерием $S$: в нашем случае у нас всего лишь $19$ успехов, а значит гипотезу $\\mathsf{H}_0$ мы не отвергаем."
   ]
  },
  {
   "cell_type": "markdown",
   "id": "78a2abfb",
   "metadata": {},
   "source": [
    "## Часть 3. Статистические функции в Python\n",
    "\n",
    "В этой части посмотрим, как вывести то, что мы получили в части 2, с помощью Python. А также поймём, как найти подходящее $C$ с помощью Python."
   ]
  },
  {
   "cell_type": "markdown",
   "id": "1e6b331a",
   "metadata": {},
   "source": [
    "### Биномиальное распределение\n",
    "\n",
    "Мы выяснили, что статистика $Q$ имеет биномиальное распределение.\n",
    "\n",
    "Биномиальное распределение $Binom(n, \\mu)$ &mdash; распределение количества успехов в последовательности из $n$ независимых случайных экспериментов, вероятность успеха в каждом из которых равна $\\mu$.\n",
    "\n",
    "Чтобы работать с распределением, можно создать объект-распределение с помощью библиотеки `scipy.stats`."
   ]
  },
  {
   "cell_type": "code",
   "execution_count": 10,
   "id": "539575d3",
   "metadata": {},
   "outputs": [],
   "source": [
    "binom_h0 = binom(\n",
    "    n=30, # количество испытаний\n",
    "    p=0.5 # вероятность успеха\n",
    ")"
   ]
  },
  {
   "cell_type": "markdown",
   "id": "af0fb4aa",
   "metadata": {},
   "source": [
    "### Функция вероятности\n",
    "\n",
    "Функция вероятности дискретного распределения $p_\\xi(x)$ &mdash; вероятность, с которой $\\xi$ принимает значение $x$.\n",
    "\n",
    "В Python это функция `pmf` (probability mass function)"
   ]
  },
  {
   "cell_type": "code",
   "execution_count": 11,
   "id": "d80e9bba",
   "metadata": {},
   "outputs": [
    {
     "data": {
      "text/plain": [
       "0.027981600724160505"
      ]
     },
     "execution_count": 11,
     "metadata": {},
     "output_type": "execute_result"
    }
   ],
   "source": [
    "binom_h0.pmf(10)"
   ]
  },
  {
   "cell_type": "markdown",
   "id": "1f57e1f4",
   "metadata": {},
   "source": [
    "Изобразим распределение статистики $Q$ при справедливости $\\mathsf{H}_0$ на графике. Для этого можно передать сразу массив точек, для которых надо рассчитать вероятность."
   ]
  },
  {
   "cell_type": "code",
   "execution_count": 12,
   "id": "2d335713",
   "metadata": {},
   "outputs": [],
   "source": [
    "# координата\n",
    "x_grid = numpy.arange(1, 31)\n",
    "# высота столбцов на графике\n",
    "probs = binom_h0.pmf(x_grid)"
   ]
  },
  {
   "cell_type": "code",
   "execution_count": 13,
   "id": "b50f4e82",
   "metadata": {},
   "outputs": [
    {
     "data": {
      "image/png": "[encoded data removed]",
      "text/plain": [
       "<Figure size 1152x576 with 1 Axes>"
      ]
     },
     "metadata": {
      "needs_background": "dark"
     },
     "output_type": "display_data"
    }
   ],
   "source": [
    "pyplot.figure(figsize=(16, 8))\n",
    "\n",
    "# строим вертикальные столбцы от 0 до вероятности\n",
    "pyplot.vlines(x_grid, 0, probs, linewidth=15.0, color='white', label='PMF, $Binom(0.5, 30)$')\n",
    "# отдельно изобразим критическую области критерия\n",
    "crit_reg = x_grid >= 20\n",
    "pyplot.vlines(x_grid[crit_reg], 0, probs[crit_reg], linewidth=15.0, label='Critical region for S')\n",
    "\n",
    "pyplot.title('Binomial distribution', fontsize=20)\n",
    "pyplot.legend(fontsize=18)\n",
    "pyplot.show()"
   ]
  },
  {
   "cell_type": "markdown",
   "id": "742866be",
   "metadata": {},
   "source": [
    "На самом деле уже сейчас мы можем посчитать вероятность попадания в критическую область. Нужно просто просуммировать высоты оранжевых столбцов."
   ]
  },
  {
   "cell_type": "code",
   "execution_count": 14,
   "id": "6624434e",
   "metadata": {},
   "outputs": [
    {
     "data": {
      "text/plain": [
       "0.04936857335269421"
      ]
     },
     "execution_count": 14,
     "metadata": {},
     "output_type": "execute_result"
    }
   ],
   "source": [
    "numpy.sum(probs[crit_reg])"
   ]
  },
  {
   "cell_type": "markdown",
   "id": "bfcc9f59",
   "metadata": {},
   "source": [
    "Получаем то число, которое было в части 2. Значит мы действительно построили критерий уровня значимости $\\alpha = 0.05$. Более того, это критерий уровня значимости $0.0494$, но такую точность обычно не используют.\n",
    "\n",
    "А что если бы мы взяли $C = 19?$"
   ]
  },
  {
   "cell_type": "code",
   "execution_count": 15,
   "id": "b390f8cc",
   "metadata": {},
   "outputs": [
    {
     "data": {
      "text/plain": [
       "0.10024421103298595"
      ]
     },
     "execution_count": 15,
     "metadata": {},
     "output_type": "execute_result"
    }
   ],
   "source": [
    "crit_reg = x_grid >= 19\n",
    "numpy.sum(probs[crit_reg])"
   ]
  },
  {
   "cell_type": "markdown",
   "id": "f5b03413",
   "metadata": {},
   "source": [
    "Тогда вероятность ошибки уже даже больше $10\\%$, что совсем нам не подходит. Видно, что нет такого $C$, чтобы False Positive Rate был ровно $5\\%$."
   ]
  },
  {
   "cell_type": "markdown",
   "id": "e4e30701",
   "metadata": {},
   "source": [
    "### Кумулятивная функция распределения"
   ]
  },
  {
   "cell_type": "markdown",
   "id": "9b88f8bf",
   "metadata": {},
   "source": [
    "Кумулятивная функция распределения $F_\\xi(x) = P(\\xi \\leqslant x)$\n",
    "\n",
    "В Python это функция `cdf` (cumulative distribution function)"
   ]
  },
  {
   "cell_type": "code",
   "execution_count": 13,
   "id": "cf5fb44d",
   "metadata": {},
   "outputs": [
    {
     "data": {
      "text/plain": [
       "0.9506314266473055"
      ]
     },
     "execution_count": 13,
     "metadata": {},
     "output_type": "execute_result"
    }
   ],
   "source": [
    "binom_h0.cdf(19)"
   ]
  },
  {
   "cell_type": "markdown",
   "id": "73561795",
   "metadata": {},
   "source": [
    "По строчке выше понятно, что вероятность получить $19$ или меньше успехов в нашей задаче $\\geqslant 0.95$. А поскольку $P(\\xi \\leqslant 19) + P(\\xi \\geqslant 20) = 1$, можем вычислить уровень значимости нашего критерия."
   ]
  },
  {
   "cell_type": "code",
   "execution_count": 14,
   "id": "d36dd3cf",
   "metadata": {},
   "outputs": [
    {
     "data": {
      "text/plain": [
       "0.04936857335269451"
      ]
     },
     "execution_count": 14,
     "metadata": {},
     "output_type": "execute_result"
    }
   ],
   "source": [
    "1 - binom_h0.cdf(19)"
   ]
  },
  {
   "cell_type": "markdown",
   "id": "e0667c0b",
   "metadata": {},
   "source": [
    "### Квантиль\n",
    "\n",
    "Чтобы выбрать критическую область для критерия, мы хотели бы найти точку, площадь столбцов справа от которой была бы $5\\%$. То есть площадь столбцов слева &mdash; $95\\%$. Такая точка называется *квантилью*.\n",
    "\n",
    "$$ u_p(\\xi) = \\{x\\ | F_\\xi(x) = p\\} $$\n",
    "\n",
    "Но при $p = 0.95$ и нашем биномиальном распределении, такой точки нет. Мы выяснили, что есть точка, справа от которой площадь $0.494$, а у следующей уже $0.1$. Чтобы определить квантиль в этом случае, модифицируем определение:\n",
    "\n",
    "Квантиль $Quantile_p(\\xi) = u_p(\\xi) = min\\ \\{x\\ |\\ F_\\xi(x) \\geqslant p \\}$ &mdash; величина, которую $\\xi$ не превышает с вероятностью хотя бы $p$.\n",
    "\n",
    "**Пример**\n",
    "\n",
    "Для величины $\\xi \\sim Bin(30, 0.5)$ посчитаем 0.95-квантиль. Решим задачу просто подбором.\n",
    "\n",
    "$$ P(\\xi \\leqslant 18) \\approx 0.90$$\n",
    "$$ P(\\xi \\leqslant 19) \\approx 0.951 $$\n",
    "$$ P(\\xi \\leqslant 20) \\approx 0.97 $$\n",
    "\n",
    "Видим, что 18 нам ещё не подходит, а 19 и большие значение уже подойдут. В них функция распределения будет больше $p$. Ответ - наименьшее подходящее значение, то есть 19. При этом нет точки, где функция распределения была бы равна $p$ в точности.\n",
    "\n",
    "\n",
    "Если бы распределение было непрерывное, можно было бы сказать, что квантиль &mdash; такое $x$, на котором функция распределения равна $p$. Но в прошлом пункте увидели, что для дискретного распределения такого может не быть.\n",
    "\n",
    "В Python квантиль можно посчитать через функцию `ppf` (percent point function)"
   ]
  },
  {
   "cell_type": "code",
   "execution_count": 15,
   "id": "8a510e8a",
   "metadata": {},
   "outputs": [
    {
     "data": {
      "text/plain": [
       "19.0"
      ]
     },
     "execution_count": 15,
     "metadata": {},
     "output_type": "execute_result"
    }
   ],
   "source": [
    "binom_h0.ppf(0.95)"
   ]
  },
  {
   "cell_type": "markdown",
   "id": "b73c4ba8",
   "metadata": {},
   "source": [
    "Как теперь подобрать $C$ для любых $n, \\mu$ и для любого уровня значимости $\\alpha$?\n",
    "\n",
    "1. Требуется найти $C$, такое что $P(Q \\geqslant C) \\leqslant \\alpha$\n",
    "2. То есть требуется $P(Q < C) \\geqslant 1 - \\alpha$\n",
    "3. Q принимает только целые значения: $P(Q \\leqslant C - 1) \\geqslant 1 - \\alpha$, или $F(C - 1) \\geqslant 1 - \\alpha$\n",
    "4. Значит, из определения квантили, $C - 1 = u_{1 - \\alpha}$\n",
    "5. Значит $C = u_{1 - \\alpha} + 1$"
   ]
  },
  {
   "cell_type": "code",
   "execution_count": 16,
   "id": "8172ba96",
   "metadata": {},
   "outputs": [],
   "source": [
    "def make_binom_criterion(n, mu=0.5, alpha=0.05):\n",
    "    '''Строит критерий для задачи с доставкой\n",
    "    \n",
    "    Параметры:\n",
    "        n: количество доставок в эксперименте\n",
    "        mu: вероятность успеха в нулевой гипотезе\n",
    "        alpha: уровень значимости критерия\n",
    "        \n",
    "    Возвращает:\n",
    "        C для критерия S = {Q >= C}\n",
    "    '''\n",
    "    binom_h0 = binom(n=n, p=mu)\n",
    "    q = binom_h0.ppf(1 - alpha)\n",
    "    return q + 1"
   ]
  },
  {
   "cell_type": "markdown",
   "id": "e28b2164",
   "metadata": {},
   "source": [
    "Применим к нашей постановке"
   ]
  },
  {
   "cell_type": "code",
   "execution_count": 17,
   "id": "2794ac11",
   "metadata": {},
   "outputs": [
    {
     "name": "stdout",
     "output_type": "stream",
     "text": [
      "if Q >= 20.0 then reject H0\n"
     ]
    }
   ],
   "source": [
    "print(f'if Q >=', make_binom_criterion(\n",
    "    n=30,\n",
    "    mu=0.5,\n",
    "    alpha=0.05\n",
    "), 'then reject H0')"
   ]
  },
  {
   "cell_type": "markdown",
   "id": "29055110",
   "metadata": {},
   "source": [
    "Критическое значение $20$, значит итоговый критерий выглядит так\n",
    "\n",
    "$$ S = \\{Q \\geqslant 20\\} $$\n",
    "\n",
    "\n",
    "$Q = 19$, значит гипотезу мы не отвергаем.\n",
    "\n",
    "При этом нам удалось построить процесс, по которому мы принимаем решение для любого уровня значимости и значения статистики критерия."
   ]
  },
  {
   "cell_type": "markdown",
   "id": "24a5dcb6",
   "metadata": {},
   "source": [
    "## Часть 4. p-value"
   ]
  },
  {
   "cell_type": "markdown",
   "id": "482918e1",
   "metadata": {},
   "source": [
    "Заметим, что сейчас, если нам зададут другую $\\alpha$, нам придётся перестраивать критерий заново. Это не совсем удобно. В статистике есть механизм *p-value*, который позволяет принять решения для всех $\\alpha$ сразу."
   ]
  },
  {
   "cell_type": "markdown",
   "id": "3190870e",
   "metadata": {},
   "source": [
    "### Более экстремальные значения\n",
    "\n",
    "Предположим, мы провели эксперимент и посчитали для критерия его статистику $Q(\\xi)$. Обозначим полученное значение $q$, в текущей задаче это $q = 19$. Если бы количество успешных доставок было ещё больше, это бы сильнее свидетельствовало о том, что гипотеза $\\mathsf{H}_0$ не выполнена. То есть в случае значения $25$ мы были бы ещё сильнее уверены в том, что наш бизнес будет окупаться. Тогда значение $25$ называется *более экстремальным*, чем значение $19$. В нашей задаче более экстремально из двух значений то, которое больше.\n",
    "\n",
    "Определим понятие экстремальности формально:\n",
    "\n",
    "$$ S = \\{Q(\\xi) \\geqslant C\\}:\\ t\\ \\text{экстремальнее}\\ q \\Leftrightarrow t > q $$\n",
    "\n",
    "Зачастую критерии других видов можно привести к этому, тогда для них тоже определено понятие экстремальности."
   ]
  },
  {
   "cell_type": "markdown",
   "id": "3f73b537",
   "metadata": {},
   "source": [
    "### p-value\n",
    "\n",
    "**p-value** &mdash; это вероятность при справедливости $\\mathsf{H}_0$ получить столь же экстремальное значение статистики $q$ или ещё более экстремальное."
   ]
  },
  {
   "attachments": {
    "pvalue.png": {
     "image/png": "[encoded data removed]"
    }
   },
   "cell_type": "markdown",
   "id": "c9b86bbc",
   "metadata": {},
   "source": [
    "![pvalue.png](attachment:pvalue.png)"
   ]
  },
  {
   "cell_type": "markdown",
   "id": "cc7e3819",
   "metadata": {},
   "source": [
    "Научимся считать p-value. Будем итеративно по строчкам расписывать формулу, добавляя кусочки определения.\n",
    "\n",
    "p-value &mdash; это **вероятность**\n",
    "\n",
    "$$ P( $$\n",
    "\n",
    "**при справедливости $\\mathsf{H}_0$** (в нашем примере, статистика имеет биномиальное распределение с вероятностью успеха 0.5)\n",
    "\n",
    "$$ P_{\\mathsf{H}_0}( $$\n",
    "\n",
    "получить **такое же** значение **статистики** или **более экстремальное** (в нашем случае значит большее либо равное)\n",
    "\n",
    "$$ P_{\\mathsf{H}_0}(Q \\geqslant q) $$\n",
    "\n",
    "Теперь выведем формулу через функции Python:\n",
    "\n",
    "$$ pvalue(q) = P_{\\mathsf{H}_0}(Q \\geqslant q) = 1 - P_{\\mathsf{H}_0}(Q < q) =  1 - P_{\\mathsf{H}_0}(Q \\leqslant q - 1) = 1 - \\text{binom_h0.cdf(q - 1)}$$"
   ]
  },
  {
   "cell_type": "markdown",
   "id": "c0ca6092",
   "metadata": {},
   "source": [
    "Изобразим на графике область более экстремальных значений и p-value для разных значений статистики."
   ]
  },
  {
   "cell_type": "code",
   "execution_count": 18,
   "id": "2cddff27",
   "metadata": {},
   "outputs": [],
   "source": [
    "C = 20  # критическое значение\n",
    "qs = [10, 19, 20, 23]  # разные реализации статистики"
   ]
  },
  {
   "cell_type": "code",
   "execution_count": 19,
   "id": "a7f57994",
   "metadata": {},
   "outputs": [
    {
     "data": {
      "image/png": "[encoded data removed]",
      "text/plain": [
       "<Figure size 1152x576 with 4 Axes>"
      ]
     },
     "metadata": {
      "needs_background": "dark"
     },
     "output_type": "display_data"
    }
   ],
   "source": [
    "fig, axes = pyplot.subplots(2, 2, figsize=(16, 8))\n",
    "\n",
    "for q, ax in zip(qs, axes.flatten()):\n",
    "    ax.set_title(f'$q = {q}$' + (' [our experiment]' if q == 19 else ''))\n",
    "    # строим вертикальные столбцы от 0 до вероятности\n",
    "    ax.vlines(x_grid, 0, probs, linewidth=8.0, color='white', label='PMF, $Binom(0.5, 30)$')\n",
    "    # отдельно изобразим критическую области критерия\n",
    "    crit_reg = x_grid >= 20\n",
    "    ax.vlines(x_grid[crit_reg], 0, probs[crit_reg], linewidth=8.0, label='Critical region for S')\n",
    "\n",
    "    # посчитаем площадь более экстремальных значений\n",
    "    pvalue = 1 - binom_h0.cdf(q - 1)\n",
    "    # изобразим такие же и более экстремальные значения на графике\n",
    "    more_extremal = x_grid >= q\n",
    "    ax.vlines(\n",
    "        x_grid[more_extremal], 0, probs[more_extremal], linewidth=3.0, color='red',\n",
    "        label='q or more extremal pvalue: {:.3f}'.format(pvalue)\n",
    "    )\n",
    "    ax.legend()\n",
    "\n",
    "pyplot.suptitle('P-values for different q', fontsize=20)\n",
    "pyplot.show()"
   ]
  },
  {
   "cell_type": "markdown",
   "id": "2222100c",
   "metadata": {},
   "source": [
    "Можно увидеть, что в критической области $p-value \\leqslant \\alpha$, а вне её $p-value > \\alpha$. Именно такое правило и используется для принятия решения\n",
    "\n",
    "$$ \\mathsf{H}_0 \\text{ отвергается } \\Leftrightarrow p-value \\leqslant \\alpha $$\n",
    "\n",
    "Причём по p-value сразу видно, что если бы в нашу критическую области включили значение $19$, наш критерий допускал бы False Positive в $10\\%$ случаев, что уже недопустимо. Поэтому и гипотезу мы не отвергаем.\n",
    "\n",
    "Заметим, что для вычисления p-value не понадобилось знание $\\alpha$, а нужна была только статистика и форма критерия."
   ]
  },
  {
   "cell_type": "markdown",
   "id": "213b0c46",
   "metadata": {},
   "source": [
    "## Часть 5. Двусторонные критерии"
   ]
  },
  {
   "cell_type": "markdown",
   "id": "f4dbaf1d",
   "metadata": {},
   "source": [
    "До этого момента нас интересовали отклонения от вероятности в $50\\%$ только в одну сторону. И логично, ведь это продиктовано бизнес-смыслом. Только большая доля успешных доставок приведёт к успеху. И обычно при принятии решений так и бывает. **При тестировании нового решения или продукта рассматривают альтернативную гипотезу только в сторону улучшения**, потому что в противном случае нет смысла внедрять решение на всех пользователей.\n",
    "\n",
    "\n",
    "Однако **иногда** может потребоваться доказывать отклонения в обе стороны, если вы проверяете какое-то предположение. Пусть вам дали монетку и просят проверить, честная она или нет. Монетка честная, если при подбрасываниях вероятность выпадения орла равна $0.5$. Вы подбрасываете монетку $30$ раз, каждый бросок &mdash; бернуллиевская величина, аналогично задаче с доставками. И нулевая гипотеза та же самая: $\\mu = 0.5$. Но теперь мы хотим отвергать эту  гипотезу как в случае большой вероятности орла, так и в случае маленькой, соответственно проверяем *двустороннюю гипотезу*.\n",
    "\n",
    "$$ \\mathsf{H}_0: \\mu = 0.5 $$\n",
    "$$ \\mathsf{H}_1: \\mu \\neq 0.5 $$\n",
    "\n",
    "Выберем критическую область для критерия при такой альтернативе. Воспользуемся той же статистикой $Q(\\xi) = \\sum \\xi_i$. Только теперь отклонения в каждую сторону одинаково важны. Отвергать гипотезу будем не только на достаточно больших значениях, но и на достаточно маленьких. Например, если у нас было всего $2$ орла из $30$ &mdash; это свидетельство в пользу того, что $\\mu \\neq 0.5$, но не в пользу $\\mu > 0.5$.\n",
    "\n",
    "Поскольку отклонения в разные стороны одинаково важны, а распределение симметричное, искать критерий можно в таком виде:\n",
    "\n",
    "$$ S = \\{|Q(\\xi) - 15| \\geqslant C\\} $$"
   ]
  },
  {
   "cell_type": "markdown",
   "id": "30ae5513",
   "metadata": {},
   "source": [
    "### Как выбрать критическую область"
   ]
  },
  {
   "cell_type": "markdown",
   "id": "da983184",
   "metadata": {},
   "source": [
    "Посмотрим, как будет выглядеть критическая область в таком случае."
   ]
  },
  {
   "cell_type": "code",
   "execution_count": 20,
   "id": "9da5f643",
   "metadata": {},
   "outputs": [
    {
     "data": {
      "image/png": "[encoded data removed]",
      "text/plain": [
       "<Figure size 1152x576 with 1 Axes>"
      ]
     },
     "metadata": {
      "needs_background": "dark"
     },
     "output_type": "display_data"
    }
   ],
   "source": [
    "C = 6\n",
    "\n",
    "pyplot.figure(figsize=(16, 8))\n",
    "\n",
    "# строим вертикальные столбцы от 0 до вероятности\n",
    "pyplot.vlines(x_grid, 0, probs, linewidth=15.0, color='white', label='PMF, $Binom(0.5, 30)$')\n",
    "# отдельно изобразим критическую области критерия\n",
    "crit_reg = numpy.abs(x_grid - 15) >= C\n",
    "pyplot.vlines(x_grid[crit_reg], 0, probs[crit_reg], linewidth=15.0, label='Critical region for S')\n",
    "\n",
    "rejection_prob = probs[crit_reg].sum()\n",
    "pyplot.title('Two-sided criteria, C = {}, critical region proba = {:.3f}'.format(C, rejection_prob), fontsize=20)\n",
    "pyplot.legend(fontsize=18)\n",
    "pyplot.show()"
   ]
  },
  {
   "cell_type": "markdown",
   "id": "b9f40b8a",
   "metadata": {},
   "source": [
    "По картинке видно, что если теперь отвергать отклонения при $Q \\geqslant 20$, то необходимо отвергать и $Q \\leqslant 10$, а значит общая площадь столбцов будет уже примерно $0.1$. Поэтому при уровне значимости $0.05$ и $20$ успехах гипотеза уже не отвергнется.\n",
    "\n",
    "Если же выставить $C = 6$, то такая область уже подходит, площадь столбцов $\\approx 0.043 < 0.05$\n",
    "\n",
    "Чтобы выбрать пороговую константу по формуле, можно заметить, что критическая область симметрична, а значит справа площадь не должна быть больше, чем $\\frac{\\alpha}{2}$. А такую задачу мы уже умеем решать. Реализуем функцию на Python."
   ]
  },
  {
   "cell_type": "code",
   "execution_count": 24,
   "id": "0c23c057",
   "metadata": {},
   "outputs": [],
   "source": [
    "def make_binom_criterion_two_sided(n, alpha=0.05):\n",
    "    '''Строит критерий для задачи с доставкой для mu = 0.5 и двусторонней альтернативы\n",
    "    \n",
    "    Параметры:\n",
    "        n: количество доставок в эксперименте\n",
    "        mu: вероятность успеха в нулевой гипотезе\n",
    "        alpha: уровень значимости критерия\n",
    "        \n",
    "    Возвращает:\n",
    "        C для критерия S = {|Q - 15| >= C}\n",
    "    '''\n",
    "    # определяем границу справа для alpha / 2\n",
    "    right_crit_val = make_binom_criterion(n, mu=0.5, alpha = alpha / 2)\n",
    "    # считаем отклонение, начиная с которого отвергать\n",
    "    diff = right_crit_val - 15\n",
    "    return diff"
   ]
  },
  {
   "cell_type": "code",
   "execution_count": 25,
   "id": "19e0a4a2",
   "metadata": {},
   "outputs": [
    {
     "data": {
      "text/plain": [
       "6.0"
      ]
     },
     "execution_count": 25,
     "metadata": {},
     "output_type": "execute_result"
    }
   ],
   "source": [
    "make_binom_criterion_two_sided(30)"
   ]
  },
  {
   "cell_type": "markdown",
   "id": "7cc06fbe",
   "metadata": {},
   "source": [
    "Получили то же, что и по картинке."
   ]
  },
  {
   "cell_type": "markdown",
   "id": "c7f18323",
   "metadata": {},
   "source": [
    "### Как считать p-value"
   ]
  },
  {
   "cell_type": "markdown",
   "id": "16e7cf34",
   "metadata": {},
   "source": [
    "Критерий имеет вид\n",
    "\n",
    "$$ S = \\{|Q(\\xi) - 15| \\geqslant C\\} $$\n",
    "\n",
    "Обозначим отклонение суммы от 15 как $ \\Delta(\\xi) =  |Q(\\xi) - 15| $, тогда мы имеем критерий\n",
    "\n",
    "$$ S = \\{\\Delta(\\xi) \\geqslant C\\} $$\n",
    "\n",
    "То есть более экстремальными будут считаться те значения суммы, которые находятся дальше от 15. Чтобы вычислить p-value, придётся посчитать сумму площадей с двух сторон по-отдельности."
   ]
  },
  {
   "cell_type": "code",
   "execution_count": 26,
   "id": "72d27d8f",
   "metadata": {},
   "outputs": [],
   "source": [
    "def pvalue_two_sided_sym(n, q):\n",
    "    '''Считает pvalue для задачи с доставкой для mu = 0.5 и двусторонней альтернативы\n",
    "    \n",
    "    Параметры:\n",
    "        n: количество доставок в эксперименте\n",
    "        q: количество успешных доставок\n",
    "        \n",
    "    Возвращает:\n",
    "        pvalue для критерия S = {|Q - 15| >= C}\n",
    "    '''\n",
    "    binom_h0 = binom(n=n, p=0.5)\n",
    "    diff = numpy.abs(q - 15)\n",
    "    # смотрим более экстремальные отклонения с правой стороны\n",
    "    right_sq = 1 - binom_h0.cdf(15 + diff - 1)\n",
    "    # смотрим более экстремальные отклонения с левой стороны\n",
    "    left_sq = binom_h0.cdf(15 - diff)\n",
    "    return left_sq + right_sq"
   ]
  },
  {
   "cell_type": "markdown",
   "id": "ea134659",
   "metadata": {},
   "source": [
    "На самом деле в силу симметричности распределения левая и правая площадь получаются одинаковыми, поэтому можно посчитать площадь с одной стороны и умножить на 2."
   ]
  },
  {
   "cell_type": "code",
   "execution_count": 27,
   "id": "33cf3e33",
   "metadata": {},
   "outputs": [],
   "source": [
    "def pvalue_two_sided_sym_simple(n, q):\n",
    "    '''Считает pvalue для задачи с доставкой для mu = 0.5 и двусторонней альтернативы\n",
    "    \n",
    "    Параметры:\n",
    "        n: количество доставок в эксперименте\n",
    "        q: количество успешных доставок\n",
    "        \n",
    "    Возвращает:\n",
    "        pvalue для критерия S = {|Q - 15| >= C}\n",
    "    '''\n",
    "    binom_h0 = binom(n=n, p=0.5)\n",
    "    diff = numpy.abs(q - 15)\n",
    "    # смотрим более экстремальные отклонения с правой стороны\n",
    "    right_sq = 1 - binom_h0.cdf(15 + diff - 1)\n",
    "    return 2 * right_sq"
   ]
  },
  {
   "cell_type": "code",
   "execution_count": 28,
   "id": "ab687f0c",
   "metadata": {},
   "outputs": [
    {
     "data": {
      "text/plain": [
       "0.04277394525706768"
      ]
     },
     "execution_count": 28,
     "metadata": {},
     "output_type": "execute_result"
    }
   ],
   "source": [
    "pvalue_two_sided_sym(n=30, q=21)"
   ]
  },
  {
   "cell_type": "code",
   "execution_count": 29,
   "id": "035237ba",
   "metadata": {},
   "outputs": [
    {
     "data": {
      "text/plain": [
       "0.04277394525706768"
      ]
     },
     "execution_count": 29,
     "metadata": {},
     "output_type": "execute_result"
    }
   ],
   "source": [
    "pvalue_two_sided_sym_simple(n=30, q=21)"
   ]
  },
  {
   "cell_type": "markdown",
   "id": "91732314",
   "metadata": {},
   "source": [
    "Теперь даже в случае $20$ орлов $pvalue > 0.05$, поэтому отвергать будем значения, начиная с $21$ и меньше либо равные $9$."
   ]
  },
  {
   "cell_type": "markdown",
   "id": "064494b6",
   "metadata": {},
   "source": [
    "### Случай с несимметричным распределением"
   ]
  },
  {
   "cell_type": "markdown",
   "id": "609f31af",
   "metadata": {},
   "source": [
    "Когда распределение при справедливости $\\mathsf{H}_0$ несимметрично, отклонения от ожидаемого значения в разные стороны могут быть по-разному критичны. В качестве примера рассмотрим также биномиальное распределение, но с вероятностью успеха $0.8$. \n",
    "\n",
    "Тогда можно левую и правую критические области построить отдельно, выделив на них по $\\frac{\\alpha}{2}$ площади. Правую область мы уже умеем искать, найдём левую."
   ]
  },
  {
   "cell_type": "code",
   "execution_count": 16,
   "id": "119b12d8",
   "metadata": {},
   "outputs": [],
   "source": [
    "binom_h0_nonsym = binom(\n",
    "    n=30, # количество испытаний\n",
    "    p=0.8 # вероятность успеха\n",
    ")"
   ]
  },
  {
   "cell_type": "code",
   "execution_count": 17,
   "id": "b0b428de",
   "metadata": {},
   "outputs": [
    {
     "data": {
      "image/png": "[encoded data removed]",
      "text/plain": [
       "<Figure size 1152x576 with 1 Axes>"
      ]
     },
     "metadata": {
      "needs_background": "dark"
     },
     "output_type": "display_data"
    }
   ],
   "source": [
    "pyplot.figure(figsize=(16, 8))\n",
    "\n",
    "# считаем вероятности значений суммы\n",
    "probs = binom_h0_nonsym.pmf(x_grid)\n",
    "# строим вертикальные столбцы от 0 до вероятности\n",
    "pyplot.vlines(x_grid, 0, probs, linewidth=15.0, color='white', label='PMF, $Binom(0.8, 30)$')\n",
    "\n",
    "pyplot.title('Binomial distribution', fontsize=20)\n",
    "pyplot.legend(fontsize=18)\n",
    "pyplot.show()"
   ]
  },
  {
   "cell_type": "markdown",
   "id": "561e5924",
   "metadata": {},
   "source": [
    "Для того, чтобы построить двусторонний критерий, нужно найти слева и справа области, площадь которых составляет не больше, чем $\\frac{\\alpha}{2}$. Для правой стороны мы уже решали такую задачу, решим для левой.\n",
    "\n",
    "Ищем $C$, такое что\n",
    "\n",
    "$$ P(Q(\\xi) \\leqslant C) \\leqslant \\frac{\\alpha}{2} $$\n",
    "\n",
    "Сначала найдём первое число, где вероятность $\\geqslant \\frac{\\alpha}{2}$. А это по определению $\\frac{\\alpha}{2}$-квантиль. Достаточно взять предыдущее число, и оно будет удовлетворять нашему условию."
   ]
  },
  {
   "cell_type": "code",
   "execution_count": 32,
   "id": "ee4d5407",
   "metadata": {},
   "outputs": [],
   "source": [
    "def two_sided_criterion_nonsym(n, mu, alpha):\n",
    "    '''Строит двусторонний критерий для несимметричной задачи с доставкой\n",
    "    \n",
    "    Параметры:\n",
    "        n: количество доставок в эксперименте\n",
    "        mu: вероятность успеха в нулевой гипотезе\n",
    "        alpha: уровень значимости критерия\n",
    "        \n",
    "    Возвращает:\n",
    "        C1, C2 для критерия S = {Q <= C1 или Q >= C2}\n",
    "    '''\n",
    "    binom_h0 = binom(n=n, p=mu)\n",
    "    \n",
    "    # аналогично одностороннему критерию\n",
    "    c2 = binom_h0.ppf(1 - alpha/2) + 1\n",
    "        \n",
    "    # по выкладкам выше\n",
    "    c1 = binom_h0.ppf(alpha/2) - 1\n",
    "    \n",
    "    return c1, c2"
   ]
  },
  {
   "cell_type": "code",
   "execution_count": 33,
   "id": "7c6ee411",
   "metadata": {},
   "outputs": [],
   "source": [
    "c1, c2 = two_sided_criterion_nonsym(30, 0.8, 0.05)"
   ]
  },
  {
   "cell_type": "code",
   "execution_count": 34,
   "id": "9a7d6b3a",
   "metadata": {},
   "outputs": [
    {
     "data": {
      "text/plain": [
       "(18.0, 29.0)"
      ]
     },
     "execution_count": 34,
     "metadata": {},
     "output_type": "execute_result"
    }
   ],
   "source": [
    "c1, c2"
   ]
  },
  {
   "cell_type": "markdown",
   "id": "9109aa9c",
   "metadata": {},
   "source": [
    "Значит наш критерий для проверки гипотезы\n",
    "\n",
    "$$ \\mathsf{H}_0: \\mu = 0.8 $$\n",
    "$$ \\mathsf{H}_1: \\mu \\neq 0.8 $$\n",
    "\n",
    "имеет вид\n",
    "\n",
    "$$ S = \\{Q(\\xi) \\leqslant 18\\} \\cup \\{Q(\\xi) \\geqslant 29\\}$$\n",
    "\n",
    "Здесь граница $29$ уже выглядит логично, потому что надо опровергнуть 80% орлов/успехов, а для этого требуется большое их количество."
   ]
  },
  {
   "cell_type": "markdown",
   "id": "63e5d5a7",
   "metadata": {},
   "source": [
    "Изобразим критическую область на графике."
   ]
  },
  {
   "cell_type": "code",
   "execution_count": 35,
   "id": "60dacea6",
   "metadata": {},
   "outputs": [
    {
     "data": {
      "image/png": "[encoded data removed]",
      "text/plain": [
       "<Figure size 1152x576 with 1 Axes>"
      ]
     },
     "metadata": {
      "needs_background": "dark"
     },
     "output_type": "display_data"
    }
   ],
   "source": [
    "pyplot.figure(figsize=(16, 8))\n",
    "\n",
    "# считаем вероятности значений суммы\n",
    "probs = binom_h0_nonsym.pmf(x_grid)\n",
    "# строим вертикальные столбцы от 0 до вероятности\n",
    "pyplot.vlines(x_grid, 0, probs, linewidth=15.0, color='white', label='PMF, $Binom(0.5, 30)$')\n",
    "# отдельно изобразим критическую области критерия\n",
    "crit_reg = (x_grid >= 29) | (x_grid <= 18)\n",
    "pyplot.vlines(x_grid[crit_reg], 0, probs[crit_reg], linewidth=15.0, label='Critical region for S')\n",
    "\n",
    "pyplot.title('Binomial distribution', fontsize=20)\n",
    "pyplot.legend(fontsize=18, loc='upper left')\n",
    "pyplot.show()"
   ]
  },
  {
   "cell_type": "markdown",
   "id": "29511eef",
   "metadata": {},
   "source": [
    "### p-value для несимметричного распределения\n",
    "\n",
    "Этот критерий &mdash; объединение двух критериев уровня значимости $\\frac{\\alpha}{2}$, для каждого из которых можно посчитать p-value. Обозначим их как $p_1, p_2$. Первый критерий отвергается при $p_1 \\leqslant \\frac{\\alpha}{2}$, второй при $p_2 \\leqslant \\frac{\\alpha}{2}$. А наш объединённый, когда выполнено одно из этих условий, то есть\n",
    "\n",
    "$$ 2p_1 \\leqslant \\alpha \\vee 2p_2 \\leqslant \\alpha \\Leftrightarrow 2 \\cdot \\min(p_1, p_2) \\leqslant \\alpha $$\n",
    "\n",
    "Значит можно считать pvalue как $2  \\min(p_1, p_2)$ и сравнивать с $\\alpha$.\n",
    "\n",
    "Проведём аналогию с симметричным случаем: если сумма оказалась в левой части, то нужно посчитать p-value левого критерия и умножить на 2. Если сумма оказалась в правой части, то нужно посчитать p-value правого критерия и умножить на 2."
   ]
  },
  {
   "cell_type": "code",
   "execution_count": 36,
   "id": "6830ba6b",
   "metadata": {},
   "outputs": [],
   "source": [
    "def pvalue_two_sided(n, q, mu=0.5):\n",
    "    '''Считает pvalue для двусторонней альтернативы в задаче с доставкой\n",
    "    \n",
    "    Параметры:\n",
    "        n: количество доставок в эксперименте\n",
    "        q: количество успешных доставок\n",
    "        mu: вероятность успеха при H0\n",
    "        \n",
    "    Возвращает:\n",
    "        pvalue для двустороннего критерия\n",
    "    '''\n",
    "    binom_h0 = binom(n=n, p=mu)\n",
    "    # считаем для левой части\n",
    "    pvalue_left = binom_h0.cdf(q)\n",
    "    # считаем для правой части\n",
    "    pvalue_right = 1 - binom_h0.cdf(q - 1)\n",
    "    # вычисляем формулу\n",
    "    return 2 * min(pvalue_left, pvalue_right)"
   ]
  },
  {
   "cell_type": "markdown",
   "id": "c268e84a",
   "metadata": {},
   "source": [
    "Посчитаем p-value для $q = 28$"
   ]
  },
  {
   "cell_type": "code",
   "execution_count": 37,
   "id": "5a0f15bf",
   "metadata": {},
   "outputs": [
    {
     "data": {
      "text/plain": [
       "0.08835797030399428"
      ]
     },
     "execution_count": 37,
     "metadata": {},
     "output_type": "execute_result"
    }
   ],
   "source": [
    "pvalue_two_sided(n=30, q=28, mu=0.8)"
   ]
  },
  {
   "cell_type": "markdown",
   "id": "fb6fce41",
   "metadata": {},
   "source": [
    "Видно, что $p-value > 0.05$, значит на уровне значимости $0.05$ даже $28$ успехов недостаточно, чтобы отвергнуть вероятность успеха в $80\\%$."
   ]
  },
  {
   "cell_type": "markdown",
   "id": "09f85389",
   "metadata": {},
   "source": [
    "Заметим, что эта же функция работает и для симметричного случая, возвращая тот же результат"
   ]
  },
  {
   "cell_type": "code",
   "execution_count": 38,
   "id": "65ab23ed",
   "metadata": {},
   "outputs": [
    {
     "data": {
      "text/plain": [
       "0.09873714670538902"
      ]
     },
     "execution_count": 38,
     "metadata": {},
     "output_type": "execute_result"
    }
   ],
   "source": [
    "pvalue_two_sided(n=30, q=20, mu=0.5)"
   ]
  },
  {
   "cell_type": "code",
   "execution_count": 39,
   "id": "9e51f3b8",
   "metadata": {},
   "outputs": [
    {
     "data": {
      "text/plain": [
       "0.09873714670538905"
      ]
     },
     "execution_count": 39,
     "metadata": {},
     "output_type": "execute_result"
    }
   ],
   "source": [
    "pvalue_two_sided_sym(n=30, q=20)"
   ]
  },
  {
   "cell_type": "markdown",
   "id": "059abb3e",
   "metadata": {},
   "source": [
    "### Итог\n",
    "\n",
    "Мы построили функции, которые для выборки из распределения Бернулли позволяют проверить гипотезу $\\mathsf{H}_0: \\mu = M$ для случая правосторонней и двухсторонней альтернатив на любом уровне значимости и размере выборки."
   ]
  }
 ],
 "metadata": {
  "kernelspec": {
   "display_name": "Python 3 (ipykernel)",
   "language": "python",
   "name": "python3"
  },
  "language_info": {
   "codemirror_mode": {
    "name": "ipython",
    "version": 3
   },
   "file_extension": ".py",
   "mimetype": "text/x-python",
   "name": "python",
   "nbconvert_exporter": "python",
   "pygments_lexer": "ipython3",
   "version": "3.7.4"
  },
  "vscode": {
   "interpreter": {
    "hash": "31f2aee4e71d21fbe5cf8b01ff0e069b9275f58929596ceb00d14d90e3e16cd6"
   }
  }
 },
 "nbformat": 4,
 "nbformat_minor": 5
}
